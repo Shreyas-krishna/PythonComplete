{
 "cells": [
  {
   "cell_type": "markdown",
   "metadata": {},
   "source": [
    "<h3>Numeric Data Type</h3>\n",
    "<p>Python has three numeric data types:\n",
    "<ul>\n",
    "<li>int</li>\n",
    "<li>float</li>\n",
    "<li>complex</li>\n",
    "</ul>\n",
    "\n",
    "The python integer data type is 'int'. Integers are whole numbers i.e. they do not have a fractional part.There is no limit to the size of a value we can store in python 'int', we would run out of memory before we could exceed the size limit -  since there isn't one.\n",
    "\n",
    "Floating point number, or floats, are real numbers i.e. numbers that have a fractional part following a decimal point. The python floating point type is called 'float'.</p>"
   ]
  },
  {
   "cell_type": "markdown",
   "metadata": {},
   "source": [
    "<h4>Numeric Operators</h4>\n",
    "<p>Some of the basic python arithmetic operators are addition(+), subtraction(-), division(/), multiplication(*) etc.</p>"
   ]
  },
  {
   "cell_type": "code",
   "execution_count": 18,
   "metadata": {},
   "outputs": [
    {
     "name": "stdout",
     "output_type": "stream",
     "text": [
      "Variable \"a\" is : 12\n",
      "Variable \"b\" is : 3\n"
     ]
    }
   ],
   "source": [
    "# some examples of basic arithmetic operations using python\n",
    "# bind some int value to variable a\n",
    "a = 12\n",
    "# bind some int value to variable b\n",
    "b = 3\n",
    "# print our variables\n",
    "print('Variable \"a\" is :', a)\n",
    "print('Variable \"b\" is :', b)"
   ]
  },
  {
   "cell_type": "code",
   "execution_count": 10,
   "metadata": {},
   "outputs": [
    {
     "name": "stdout",
     "output_type": "stream",
     "text": [
      "We can perform addition using the \"+\" operator.\n",
      "Sum of the two variables \"a\" and \"b\" : 15\n"
     ]
    }
   ],
   "source": [
    "# Addition\n",
    "print('We can perform addition using the \"+\" operator.')\n",
    "print('Sum of the two variables \"a\" and \"b\" :', a+b)"
   ]
  },
  {
   "cell_type": "code",
   "execution_count": 11,
   "metadata": {},
   "outputs": [
    {
     "name": "stdout",
     "output_type": "stream",
     "text": [
      "We can perform subtraction using the \"-\" operator.\n",
      "Difference between the two variables \"a\" and \"b\" : 9\n"
     ]
    }
   ],
   "source": [
    "# Subtraction\n",
    "print('We can perform subtraction using the \"-\" operator.')\n",
    "print('Difference between the two variables \"a\" and \"b\" :', a-b)"
   ]
  },
  {
   "cell_type": "code",
   "execution_count": 12,
   "metadata": {},
   "outputs": [
    {
     "name": "stdout",
     "output_type": "stream",
     "text": [
      "We can perform multiplication using the \"*\" operator\n",
      "product of the two variables \"a\" and \"b\" : 36\n"
     ]
    }
   ],
   "source": [
    "# Multiplication \n",
    "print('We can perform multiplication using the \"*\" operator')\n",
    "print('product of the two variables \"a\" and \"b\" :', a*b)"
   ]
  },
  {
   "cell_type": "code",
   "execution_count": 15,
   "metadata": {},
   "outputs": [
    {
     "name": "stdout",
     "output_type": "stream",
     "text": [
      "We can perform division using the \"/\" operator \n",
      "The variable \"a\" divided by the variable \"b\" : 4.0\n"
     ]
    }
   ],
   "source": [
    "# Division\n",
    "print('We can perform division using the \"/\" operator ')\n",
    "print('The variable \"a\" divided by the variable \"b\" :', a/b)"
   ]
  },
  {
   "cell_type": "code",
   "execution_count": 16,
   "metadata": {},
   "outputs": [
    {
     "name": "stdout",
     "output_type": "stream",
     "text": [
      "We can perform floor division using the \"//\" operator  \n",
      "Integer divison of the variable \"a\" by \"b\" : 4\n"
     ]
    }
   ],
   "source": [
    "# Floor division\n",
    "# Floor division returns closest whole number for division\n",
    "print('We can perform floor division using the \"//\" operator  ')\n",
    "print('Integer divison of the variable \"a\" by \"b\" :', a//b)"
   ]
  },
  {
   "cell_type": "code",
   "execution_count": 19,
   "metadata": {},
   "outputs": [
    {
     "name": "stdout",
     "output_type": "stream",
     "text": [
      "We can get remainder of a division by using the \"%\" operator\n",
      " Operation to get remainder post division : 0\n"
     ]
    }
   ],
   "source": [
    "# Modulo division\n",
    "# Division for remainder\n",
    "print('We can get remainder of a division by using the \"%\" operator')\n",
    "print('Operation to get remainder post division :', a%b)"
   ]
  },
  {
   "cell_type": "markdown",
   "metadata": {},
   "source": [
    "<h4>Expressions</h4>\n",
    "<p>Expressions in python are calculations which returns a value. An example of an expression would be a + b where, a and b are variables binded to a value.\n",
    "\n",
    "In the below example, the int 1 is also an expression. Here, a//b too is an expression. The method range() is considered as an expression that are part of another expression i.e. python has to perform some calulation and evaluate to return some value. The for loop is also an expression since the value for the loop are calculated and evaluated to be returned.\n",
    "\n",
    "\n",
    "The print statement print(i) is an expression too as python evaluates \"i\" to get the value.</p>"
   ]
  },
  {
   "cell_type": "code",
   "execution_count": 20,
   "metadata": {},
   "outputs": [
    {
     "name": "stdout",
     "output_type": "stream",
     "text": [
      "1\n",
      "2\n",
      "3\n"
     ]
    }
   ],
   "source": [
    "for i in range(1, a//b):\n",
    "    print(i)"
   ]
  },
  {
   "cell_type": "markdown",
   "metadata": {},
   "source": [
    "<h4> Operator Precedence </h4>\n",
    "<p>The order in which operation are performed in expressions, it can also be described as the relative importance given to each of the operators in expressions. In other words, it is how certain operation/operators have more weightage over other operations/operators or can be explained as the order in which operations needs to be performed. In real world scenario, we use BODMAS (Brackets, Orders, Division, Multiplication, Addition, Subtraction) to perform calculation (moving from left-to-right) involving multiple operations within a single expression, the same rules apply to python as well.</p>"
   ]
  },
  {
   "cell_type": "markdown",
   "metadata": {},
   "source": [
    "# "
   ]
  },
  {
   "cell_type": "code",
   "execution_count": 22,
   "metadata": {},
   "outputs": [
    {
     "name": "stdout",
     "output_type": "stream",
     "text": [
      "Before elaboration: -35.0\n"
     ]
    }
   ],
   "source": [
    "# Example as to how operator precedence works\n",
    "print('Before elaboration:', a + b / 3 - 4 * 12)"
   ]
  },
  {
   "cell_type": "markdown",
   "metadata": {},
   "source": [
    "<p> According to operator precedence, the operations are as follows :\n",
    "<ol>\n",
    "<li>Division is performed (b/3)</li>\n",
    "<li>Multiplication is performed (4*12)</li>\n",
    "<li>Addition is performed</li>\n",
    "<li>Suntraction is performed</li>\n",
    "</ol>\n",
    "\n",
    "The equation simplifies to:\n",
    "\n",
    "    a + (b/3) - (4 * 12)\n",
    "</p>"
   ]
  },
  {
   "cell_type": "code",
   "execution_count": 24,
   "metadata": {},
   "outputs": [
    {
     "name": "stdout",
     "output_type": "stream",
     "text": [
      "Post elaboration: -35.0\n"
     ]
    }
   ],
   "source": [
    "print('Post elaboration:', a + (b/3) - (4*12))"
   ]
  },
  {
   "cell_type": "markdown",
   "metadata": {},
   "source": [
    "<h4>Operator Precedence Acronyms</h4>\n",
    "<ul>\n",
    "<li>PEMDAS</li> \n",
    "<li>BODMAS</li>\n",
    "<li>BEDMAS</li>\n",
    "<li>BIDMAS</li>\n",
    "</ul>\n",
    "<p>The problem with following acronyms is that, they are all ambigious. It is easy to interpret that division has higher precedence/weightage than multiplication (with respect to following BODMAS) or Addition has higher precedence over subtraction (again, w.r.t. BODMAS). That is not the case, multiplication and division have equal precedence and so does subtraction and addition, in an expression involving multiple operations with equal precedence, they are evaluated from left-to-right.</p>"
   ]
  }
 ],
 "metadata": {
  "kernelspec": {
   "display_name": "Python 3",
   "language": "python",
   "name": "python3"
  },
  "language_info": {
   "codemirror_mode": {
    "name": "ipython",
    "version": 3
   },
   "file_extension": ".py",
   "mimetype": "text/x-python",
   "name": "python",
   "nbconvert_exporter": "python",
   "pygments_lexer": "ipython3",
   "version": "3.12.0"
  }
 },
 "nbformat": 4,
 "nbformat_minor": 2
}

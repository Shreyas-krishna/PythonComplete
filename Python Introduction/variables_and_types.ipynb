{
 "cells": [
  {
   "cell_type": "markdown",
   "metadata": {},
   "source": [
    "<h3>Variables and Types</h3>\n",
    "<p>Everything that the program needs, data and the program itself, is stored somewhere in the computer's memory. A variable is a location in computer memory to which we assign a meaningful name, into which we can place values. When a variable is created with a name, python allocates a memory location for the value it holds. Python knows to refer to this memory location whenever the name associated with that location is used i.e. the variable's name. Python also decides the type of the variable depending on the value we assign to it, it ensures only that operations which can be performed on the variable type can be applied to it.\n",
    "\n",
    "Naming convention:\n",
    "\n",
    "-> python variable names must begin with a character.\n",
    "\n",
    "-> variable name may contain alphabets or numerical values but do not begin with numbers.\n",
    "\n",
    "-> the character underscore(_) is used in place of a space to seperate two words in a variable  \n",
    "   name e.g. first_name.\n",
    "\n",
    "-> python variables are case sensitive i.e. the variable name 'a' and another variable with the \n",
    "   name 'A' are two different memory location.\n",
    "\n",
    "-> we can bind a value to a variable by the use the '=' operator.</p>"
   ]
  },
  {
   "cell_type": "code",
   "execution_count": null,
   "metadata": {},
   "outputs": [],
   "source": [
    "# an example of creating a variable with a numeric values bounded to it\n",
    "age = 24"
   ]
  },
  {
   "cell_type": "markdown",
   "metadata": {},
   "source": [
    "<h3>Type</h3>\n",
    "<p>Python is a dynamically typed language and a strongly typed language. There are different types of data types built into python, some examples being string, integers etc. We can check the type a variable by calling the method 'type()'. Data type(type) in python describes the kind of information that we are storing as a variable. It's more accurate to think of the value bound to a variable as having a type, rather than the variable itself.</p>"
   ]
  },
  {
   "cell_type": "code",
   "execution_count": 3,
   "metadata": {},
   "outputs": [
    {
     "name": "stdout",
     "output_type": "stream",
     "text": [
      "The variable \"age\" is an object of int : <class 'int'>\n",
      "The variable \"name\" is an object of str : <class 'str'>\n"
     ]
    }
   ],
   "source": [
    "# examples of finding a variable's type \n",
    "# using integer\n",
    "age = 34\n",
    "print('The variable \"age\" is an object of int :',type(age))\n",
    "# using string\n",
    "name =  'Shreyas'\n",
    "print('The variable \"name\" is an object of str :',type(name))"
   ]
  },
  {
   "cell_type": "markdown",
   "metadata": {},
   "source": [
    "<p>Unlike in some other programming languages, where a variable’s type is fixed once assigned and cannot be changed, Python allows variables to be rebound to values of different types. The type of the variable automatically changes to match the new value.</p>"
   ]
  },
  {
   "cell_type": "code",
   "execution_count": 7,
   "metadata": {},
   "outputs": [
    {
     "name": "stdout",
     "output_type": "stream",
     "text": [
      "Current value of the variable \"age\" is : 32\n",
      "Current type of the variable \"age\" is : <class 'int'>\n",
      "Value of age is changes to \"2 years\"\n",
      "Current value of the variable \"age\" is : 2 years\n",
      "Current type of the variable \"age\" is : <class 'str'>\n"
     ]
    }
   ],
   "source": [
    "# let's take a look at an example of changing type of value a variable holds\n",
    "age = 32\n",
    "print('Current value of the variable \"age\" is :', age)\n",
    "print('Current type of the variable \"age\" is :', type(age))\n",
    "# let us try giving our variable age a string value\n",
    "age = '2 years'\n",
    "print('Value of age is changes to \"2 years\"')\n",
    "print('Current value of the variable \"age\" is :', age)\n",
    "print('Current type of the variable \"age\" is :', type(age))\n"
   ]
  },
  {
   "cell_type": "markdown",
   "metadata": {},
   "source": [
    "<p>Python has several built-in data types</p>\n",
    "<ul>\n",
    "<li>Numeric</li>\n",
    "<li>Iterator</li>\n",
    "<li>Sequence</li>\n",
    "<li>Mapping</li>\n",
    "<li>File</li>\n",
    "<li>Class</li>\n",
    "<li>Exception</li>\n",
    "</ul>"
   ]
  },
  {
   "cell_type": "markdown",
   "metadata": {},
   "source": []
  }
 ],
 "metadata": {
  "kernelspec": {
   "display_name": "Python 3",
   "language": "python",
   "name": "python3"
  },
  "language_info": {
   "codemirror_mode": {
    "name": "ipython",
    "version": 3
   },
   "file_extension": ".py",
   "mimetype": "text/x-python",
   "name": "python",
   "nbconvert_exporter": "python",
   "pygments_lexer": "ipython3",
   "version": "3.12.0"
  }
 },
 "nbformat": 4,
 "nbformat_minor": 2
}

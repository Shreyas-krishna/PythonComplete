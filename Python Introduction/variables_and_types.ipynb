{
 "cells": [
  {
   "cell_type": "markdown",
   "metadata": {},
   "source": [
    "<h3>Variables and Types</h3>\n",
    "<p>Everything that the program needs, data and the program itself, is stored somewhere in the computer's memory. A variable is a location in computer memory to which we assign a meaningful name, into which we can place values. When a variable is created with a name, python allocates a memory location for the value it holds. Python knows to refer to this memory location whenever the name associated with that location is used i.e. the variable's name. Python also decides the type of the variable depending on the value we assign to it, it ensures only that operations which can be performed on the variable type can be applied to it.\n",
    "\n",
    "Naming convention:\n",
    "\n",
    "-> python variable names must begin with caharacter.\n",
    "\n",
    "-> variable name may contain alaphabets or numerical values but do not begin with numbers.\n",
    "\n",
    "-> the character underscore(_) is used in place of a space to seperate two words in a variable name e.g. first_name.\n",
    "\n",
    "-> python variables are case sensitive i.e. the variable name 'a' and another variable with the name 'A' are two different memory location.\n",
    "\n",
    "-> we can bind a value to a variable by the use the '=' operator</p>"
   ]
  },
  {
   "cell_type": "code",
   "execution_count": null,
   "metadata": {},
   "outputs": [],
   "source": [
    "# an example of creating a variable with a numeric values bounded to it\n",
    "age = 24"
   ]
  },
  {
   "cell_type": "markdown",
   "metadata": {},
   "source": [
    "<h3>Type</h3>\n",
    "<p>Python is a dynamically typed language and a strongly typed language. </p>"
   ]
  },
  {
   "cell_type": "code",
   "execution_count": null,
   "metadata": {},
   "outputs": [],
   "source": []
  }
 ],
 "metadata": {
  "kernelspec": {
   "display_name": "Python 3",
   "language": "python",
   "name": "python3"
  },
  "language_info": {
   "name": "python",
   "version": "3.12.0"
  }
 },
 "nbformat": 4,
 "nbformat_minor": 2
}

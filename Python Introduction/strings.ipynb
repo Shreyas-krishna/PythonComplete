{
 "cells": [
  {
   "cell_type": "markdown",
   "metadata": {},
   "source": [
    "<h3> Strings </h3>\n",
    "\n",
    "<p>Text enclosed within quotes are strings. Single quotes and double quotes can be used to create string literals. If we need to make use of double quotes in a string, we enclose that string in a single quote. To make use of a single quote in a string, we use double quotes to enclose it.</p>\n",
    "\n"
   ]
  },
  {
   "cell_type": "code",
   "execution_count": 29,
   "metadata": {},
   "outputs": [
    {
     "name": "stdout",
     "output_type": "stream",
     "text": [
      "helo, world!\n"
     ]
    }
   ],
   "source": [
    "# String example using print statements:\n",
    "# print a string literal.\n",
    "print('helo, world!')"
   ]
  },
  {
   "cell_type": "code",
   "execution_count": 26,
   "metadata": {},
   "outputs": [
    {
     "name": "stdout",
     "output_type": "stream",
     "text": [
      "This is a print statement using double quotes.\n"
     ]
    }
   ],
   "source": [
    "# printing a string literal using double quotes.\n",
    "print(\"This is a print statement using double quotes.\")"
   ]
  },
  {
   "cell_type": "code",
   "execution_count": 27,
   "metadata": {},
   "outputs": [
    {
     "name": "stdout",
     "output_type": "stream",
     "text": [
      "This is how we can use \"double quotes\" within a single quote \n"
     ]
    }
   ],
   "source": [
    "# using single quote to enclose a string with double quotes.\n",
    "print('This is how we can use \"double quotes\" within a single quote ')"
   ]
  },
  {
   "cell_type": "code",
   "execution_count": 28,
   "metadata": {},
   "outputs": [
    {
     "name": "stdout",
     "output_type": "stream",
     "text": [
      "An example of double quote's single quote\n"
     ]
    }
   ],
   "source": [
    "# using a double quote to enclose a srting withba single quote in it.\n",
    "print(\"An example of double quote's single quote\")"
   ]
  },
  {
   "cell_type": "markdown",
   "metadata": {},
   "source": [
    "<h3> String Concatenation </h3>\n",
    "<p> String concatination are made possible by the use of the '+' operator. We can store literals in a variable to concatenate two different sting variables\n",
    "\n",
    "String concate using the '+' operator does not add any spaces i.e the string 'hello' concatenated with the string 'world' using the '+' operator will return the string 'helloworld'. In order to add space, we need to concatenate strings by adding in the space by doing so 'hello' + ' ' + 'world'.</p>"
   ]
  },
  {
   "cell_type": "code",
   "execution_count": 7,
   "metadata": {},
   "outputs": [
    {
     "name": "stdout",
     "output_type": "stream",
     "text": [
      "BruceWayne\n",
      "Bruce Wayne\n"
     ]
    }
   ],
   "source": [
    "# an example of string concatination:\n",
    "first_name = 'Bruce'\n",
    "last_name = 'Wayne'\n",
    "print(first_name+last_name)\n",
    "print(first_name + ' ' + last_name)\n"
   ]
  },
  {
   "cell_type": "markdown",
   "metadata": {},
   "source": [
    "<h3> The Escape Character </h3>\n",
    "\n",
    "<p> The backslash in python is used to escape character that follows it. This gives the proceeding characters special meaning.examples include: '/n' for new line and '/t' to insert a tab.They are helpful when one needs to use both quotes and double quotes. We can also make use of triple quotes to get desired results similar to these but without the use of backslash to escape characters. Usage of triple quotes also allows us to perform actions such as inserting new line. The backslash can also be used to skip end of lines.\n",
    "\n",
    "\n",
    "There will be times when we would require the use backslash as a character, in order to do so, we will escape the backslash character by using a preceeding backslash. An example would be, the dir path in windows requires backslash to be used as a character.</p>"
   ]
  },
  {
   "cell_type": "code",
   "execution_count": 25,
   "metadata": {},
   "outputs": [
    {
     "name": "stdout",
     "output_type": "stream",
     "text": [
      "this sentence \n",
      " is split over\n"
     ]
    }
   ],
   "source": [
    "# an example of adding new line to a string.\n",
    "split_over = 'this sentence \\n is split over'\n",
    "print(split_over)"
   ]
  },
  {
   "cell_type": "code",
   "execution_count": 20,
   "metadata": {},
   "outputs": [
    {
     "name": "stdout",
     "output_type": "stream",
     "text": [
      "this sentence \t is tabbed\n"
     ]
    }
   ],
   "source": [
    "# an example of inserting a tab\n",
    "tabbed = 'this sentence \\t is tabbed'\n",
    "print(tabbed)"
   ]
  },
  {
   "cell_type": "code",
   "execution_count": 21,
   "metadata": {},
   "outputs": [
    {
     "name": "stdout",
     "output_type": "stream",
     "text": [
      "He said he's the \"baddest\" of em y'all\n"
     ]
    }
   ],
   "source": [
    "# use of escape character to include appostrophe and quotes\n",
    "print('He said he\\'s the \"baddest\" of em y\\'all')"
   ]
  },
  {
   "cell_type": "code",
   "execution_count": 22,
   "metadata": {},
   "outputs": [
    {
     "name": "stdout",
     "output_type": "stream",
     "text": [
      "He's the most \"problematic\" child in the class\n"
     ]
    }
   ],
   "source": [
    "# an example showcasing use of triple quotes\n",
    "print(\"\"\"He's the most \"problematic\" child in the class\"\"\")"
   ]
  },
  {
   "cell_type": "code",
   "execution_count": 23,
   "metadata": {},
   "outputs": [
    {
     "name": "stdout",
     "output_type": "stream",
     "text": [
      "this is \n",
      "split among\n",
      "different lines\n"
     ]
    }
   ],
   "source": [
    "# an example of new line using triple quotes\n",
    "print(\"\"\"this is \n",
    "split among\n",
    "different lines\"\"\")"
   ]
  },
  {
   "cell_type": "code",
   "execution_count": 24,
   "metadata": {},
   "outputs": [
    {
     "name": "stdout",
     "output_type": "stream",
     "text": [
      "this is split among different lines\n"
     ]
    }
   ],
   "source": [
    "# example of inserting new lines but escaping them by the use of backslash\n",
    "print(\"\"\"this is \\\n",
    "split among \\\n",
    "different lines\"\"\")"
   ]
  },
  {
   "cell_type": "code",
   "execution_count": 30,
   "metadata": {},
   "outputs": [
    {
     "name": "stdout",
     "output_type": "stream",
     "text": [
      "C:\\user\\program_files\n"
     ]
    }
   ],
   "source": [
    "# an example of using backslash as a character\n",
    "print('C:\\\\user\\\\program_files')"
   ]
  },
  {
   "cell_type": "code",
   "execution_count": null,
   "metadata": {},
   "outputs": [],
   "source": []
  }
 ],
 "metadata": {
  "kernelspec": {
   "display_name": "Python 3",
   "language": "python",
   "name": "python3"
  },
  "language_info": {
   "codemirror_mode": {
    "name": "ipython",
    "version": 3
   },
   "file_extension": ".py",
   "mimetype": "text/x-python",
   "name": "python",
   "nbconvert_exporter": "python",
   "pygments_lexer": "ipython3",
   "version": "3.12.0"
  }
 },
 "nbformat": 4,
 "nbformat_minor": 2
}

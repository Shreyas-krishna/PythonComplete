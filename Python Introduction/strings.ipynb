{
 "cells": [
  {
   "cell_type": "markdown",
   "metadata": {},
   "source": [
    "<h3> Strings </h3>\n",
    "\n",
    "<p>Text enclosed within quotes is strings. Both Single and double can be used to create string literals. If we need to use double quotes in a string, we enclose that string in single quotes. To use single quotes in a string, we use double quotes to enclose tjat string.</p>\n",
    "\n"
   ]
  },
  {
   "cell_type": "code",
   "execution_count": 29,
   "metadata": {},
   "outputs": [
    {
     "name": "stdout",
     "output_type": "stream",
     "text": [
      "helo, world!\n"
     ]
    }
   ],
   "source": [
    "# String example using print statements:\n",
    "# print a string literal.\n",
    "print('helo, world!')"
   ]
  },
  {
   "cell_type": "code",
   "execution_count": 26,
   "metadata": {},
   "outputs": [
    {
     "name": "stdout",
     "output_type": "stream",
     "text": [
      "This is a print statement using double quotes.\n"
     ]
    }
   ],
   "source": [
    "# printing a string literal using double quotes.\n",
    "print(\"This is a print statement using double quotes.\")"
   ]
  },
  {
   "cell_type": "code",
   "execution_count": 27,
   "metadata": {},
   "outputs": [
    {
     "name": "stdout",
     "output_type": "stream",
     "text": [
      "This is how we can use \"double quotes\" within a single quote \n"
     ]
    }
   ],
   "source": [
    "# using single quote to enclose a string with double quotes.\n",
    "print('This is how we can use \"double quotes\" within a single quote ')"
   ]
  },
  {
   "cell_type": "code",
   "execution_count": 28,
   "metadata": {},
   "outputs": [
    {
     "name": "stdout",
     "output_type": "stream",
     "text": [
      "An example of double quote's single quote\n"
     ]
    }
   ],
   "source": [
    "# using a double quote to enclose a srting withba single quote in it.\n",
    "print(\"An example of double quote's single quote\")"
   ]
  },
  {
   "cell_type": "markdown",
   "metadata": {},
   "source": [
    "<h4> String Concatenation </h4>\n",
    "<p> String concatination is made possible by the use of the '+' operator. We can store literals in a variable to concatenate two different string variables\n",
    "\n",
    "String concate using the '+' operator does not add any spaces i.e the string 'hello' concatenated with the string 'world' using the '+' operator will return the string 'helloworld'. In order to add space, we need to concatenate strings by adding in the space by doing so 'hello' + ' ' + 'world'.</p>"
   ]
  },
  {
   "cell_type": "code",
   "execution_count": 2,
   "metadata": {},
   "outputs": [
    {
     "name": "stdout",
     "output_type": "stream",
     "text": [
      "Print without space using \"+\" operator : BruceWayne\n",
      "Print space using \"+\" operator : Bruce Wayne\n"
     ]
    }
   ],
   "source": [
    "# example of string concatination:\n",
    "first_name = 'Bruce'\n",
    "last_name = 'Wayne'\n",
    "print('Print without space using \"+\" operator :',first_name+last_name)\n",
    "print('Print space using \"+\" operator :',first_name + ' ' + last_name)\n"
   ]
  },
  {
   "cell_type": "markdown",
   "metadata": {},
   "source": [
    "<h4> The Escape Character </h4>\n",
    "\n",
    "<p> The backslash in python is used to escape character that follows it. This gives the following characters special meaning.examples include: '/n' for new line and '/t' to insert a tab.They are helpful when one needs to use both quotes and double quotes. We can also make use of triple quotes to get desired results similar to these but without the use of backslash to escape characters. Usage of triple quotes also allows us to perform actions such as inserting new line. The backslash can also be used to skip end of lines.\n",
    "\n",
    "\n",
    "There will be times when we would require the use backslash as a character, in order to do so, we will escape the backslash character by using a preceding backslash. An example would be, the dir path in windows requires backslash to be used as a character.</p>"
   ]
  },
  {
   "cell_type": "code",
   "execution_count": 25,
   "metadata": {},
   "outputs": [
    {
     "name": "stdout",
     "output_type": "stream",
     "text": [
      "this sentence \n",
      " is split over\n"
     ]
    }
   ],
   "source": [
    "# an example of adding new line to a string.\n",
    "split_over = 'this sentence \\n is split over'\n",
    "print(split_over)"
   ]
  },
  {
   "cell_type": "code",
   "execution_count": 20,
   "metadata": {},
   "outputs": [
    {
     "name": "stdout",
     "output_type": "stream",
     "text": [
      "this sentence \t is tabbed\n"
     ]
    }
   ],
   "source": [
    "# an example of inserting a tab\n",
    "tabbed = 'this sentence \\t is tabbed'\n",
    "print(tabbed)"
   ]
  },
  {
   "cell_type": "code",
   "execution_count": 21,
   "metadata": {},
   "outputs": [
    {
     "name": "stdout",
     "output_type": "stream",
     "text": [
      "He said he's the \"baddest\" of em y'all\n"
     ]
    }
   ],
   "source": [
    "# use of escape character to include appostrophe and quotes\n",
    "print('He said he\\'s the \"baddest\" of em y\\'all')"
   ]
  },
  {
   "cell_type": "code",
   "execution_count": 22,
   "metadata": {},
   "outputs": [
    {
     "name": "stdout",
     "output_type": "stream",
     "text": [
      "He's the most \"problematic\" child in the class\n"
     ]
    }
   ],
   "source": [
    "# an example showcasing use of triple quotes\n",
    "print(\"\"\"He's the most \"problematic\" child in the class\"\"\")"
   ]
  },
  {
   "cell_type": "code",
   "execution_count": 23,
   "metadata": {},
   "outputs": [
    {
     "name": "stdout",
     "output_type": "stream",
     "text": [
      "this is \n",
      "split among\n",
      "different lines\n"
     ]
    }
   ],
   "source": [
    "# an example of new line using triple quotes\n",
    "print(\"\"\"this is \n",
    "split among\n",
    "different lines\"\"\")"
   ]
  },
  {
   "cell_type": "code",
   "execution_count": 24,
   "metadata": {},
   "outputs": [
    {
     "name": "stdout",
     "output_type": "stream",
     "text": [
      "this is split among different lines\n"
     ]
    }
   ],
   "source": [
    "# example of inserting new lines but escaping them by the use of backslash\n",
    "print(\"\"\"this is \\\n",
    "split among \\\n",
    "different lines\"\"\")"
   ]
  },
  {
   "cell_type": "code",
   "execution_count": 30,
   "metadata": {},
   "outputs": [
    {
     "name": "stdout",
     "output_type": "stream",
     "text": [
      "C:\\user\\program_files\n"
     ]
    }
   ],
   "source": [
    "# an example of using backslash as a character\n",
    "print('C:\\\\user\\\\program_files')"
   ]
  },
  {
   "cell_type": "markdown",
   "metadata": {},
   "source": [
    "<h4>String Indexing</h4>\n",
    "<p>We can index through any string, where each character in the string is indexed strating from 0 to length of string minus one. Indexing is performed using square brackets [] with the variable representing the string. \n",
    "\n",
    "In the example below :\n",
    "\n",
    "The total length of the string we created is 14. Since indexing in python begins from 0 the end index for the string we created will be 13 (between 0 to 13, including 0 and 13, there 14 numbers).</p>"
   ]
  },
  {
   "cell_type": "code",
   "execution_count": 3,
   "metadata": {},
   "outputs": [
    {
     "name": "stdout",
     "output_type": "stream",
     "text": [
      "Our string is : Norwegian Blue\n",
      "Indexing on index 0 N\n"
     ]
    }
   ],
   "source": [
    "# let us bind a string type value to a variable name\n",
    "parrot = 'Norwegian Blue'\n",
    "print('Our string is :', parrot)\n",
    "\n",
    "# indexing on the string variable we created\n",
    "print('Indexing on index 0', parrot[0])"
   ]
  },
  {
   "cell_type": "code",
   "execution_count": 7,
   "metadata": {},
   "outputs": [
    {
     "name": "stdout",
     "output_type": "stream",
     "text": [
      "w\n",
      "e\n",
      "\n",
      "w\n",
      "i\n",
      "n\n"
     ]
    }
   ],
   "source": [
    "# code exercise to print the string 'we win' using only indexing on the parrot string we created\n",
    "print(parrot[3])\n",
    "print(parrot[4])\n",
    "print()\n",
    "print(parrot[3])\n",
    "print(parrot[6])\n",
    "print(parrot[8])"
   ]
  },
  {
   "cell_type": "markdown",
   "metadata": {},
   "source": [
    "<h4>Negative Indexing</h4>\n",
    "<p>We can perform negative indexing, negative indexing is similar to regular indexing but we use negative numbers to index instead of positive numbers. Negative indexing allows us to access string characters by counting from the end of the string rather than the beginning.\n",
    "\n",
    "0 ->   1   ->  2   ->  3   ->  4\n",
    "\n",
    "h      e       l       l       o\n",
    "\n",
    "-5 <-  -4   <- -3   <- -2   <- -1</p>\n",
    "\n",
    "\n",
    "here, -1 indexes the last character in the string, by incrementing the negative index, we move towards the characters in the left. For example, in the above string 'hello', -1 would be the character 'o' and incrementing -1 to -2, would be the character 'l', so on and so forth. Negative indexing begins with -1 rather than 0."
   ]
  },
  {
   "cell_type": "code",
   "execution_count": 12,
   "metadata": {},
   "outputs": [
    {
     "name": "stdout",
     "output_type": "stream",
     "text": [
      "Our string is : Norwegian Blue\n",
      "The last character in our string is : e\n",
      "The second last character in our string is : u\n",
      "The third last character in our string is : l\n"
     ]
    }
   ],
   "source": [
    "# get the very last character in the string parrot we created\n",
    "print('Our string is :', parrot)\n",
    "print('The last character in our string is :', parrot[-1])\n",
    "print('The second last character in our string is :', parrot[-2])\n",
    "print('The third last character in our string is :', parrot[-3])"
   ]
  },
  {
   "cell_type": "markdown",
   "metadata": {},
   "source": [
    "<h4>String Slicing</h4>\n",
    "<p>Slicing is the process of extracting sequence of character from a string. We can slice by passing the start index from which we want to begin extracting from and the end index at which we want to stop our extraction, this will include all characters from the start index to the end index(The last character is not included i.e. the character in the end index is excluded). We can also make use of arithmetic operations to get our start and end indexes. We slice with the help of negative indexing as well. Slicing is performed on a string (string variable) using the start index and the end index enclosed within square brackets.</p>"
   ]
  },
  {
   "cell_type": "code",
   "execution_count": 29,
   "metadata": {},
   "outputs": [
    {
     "name": "stdout",
     "output_type": "stream",
     "text": [
      "Slicing first six character from parrot string : Norweg\n"
     ]
    }
   ],
   "source": [
    "# string slicing on our parrot string variable\n",
    "print('Slicing first six character from parrot string :', parrot[0:6])"
   ]
  },
  {
   "cell_type": "code",
   "execution_count": 30,
   "metadata": {},
   "outputs": [
    {
     "name": "stdout",
     "output_type": "stream",
     "text": [
      "Slicing last three characters from our parrot string : lue\n"
     ]
    }
   ],
   "source": [
    "# slicing with use of arithmetic operation\n",
    "print('Slicing last three characters from our parrot string :', parrot[14-3:14])"
   ]
  },
  {
   "cell_type": "markdown",
   "metadata": {},
   "source": [
    "<p>Slicing on a string variable can also be performed using neagtive indexing.</p>"
   ]
  },
  {
   "cell_type": "code",
   "execution_count": 31,
   "metadata": {},
   "outputs": [
    {
     "name": "stdout",
     "output_type": "stream",
     "text": [
      "Slicing using negative indexing : lu\n"
     ]
    }
   ],
   "source": [
    "# slicing using negative indexing\n",
    "print('Slicing using negative indexing :', parrot[-3:-1])"
   ]
  },
  {
   "cell_type": "markdown",
   "metadata": {},
   "source": [
    "<p>In  the above code the last character i.e the character at the -1 index is not includede and thus does not get printed. We can print our string along with the last character using negative indexing by not passing the end index.</p>"
   ]
  },
  {
   "cell_type": "code",
   "execution_count": 32,
   "metadata": {},
   "outputs": [
    {
     "name": "stdout",
     "output_type": "stream",
     "text": [
      "Slicing of last three characters of our string using negative indexing : lue\n"
     ]
    }
   ],
   "source": [
    "# slicing with negative indexing but with last character\n",
    "print('Slicing of last three characters of our string using negative indexing :', parrot[-3:])"
   ]
  },
  {
   "cell_type": "markdown",
   "metadata": {},
   "source": [
    "<p>Similarly, we can slice without use of the start index. This in return will give us all the characters till the end index if used.</p>"
   ]
  },
  {
   "cell_type": "code",
   "execution_count": 33,
   "metadata": {},
   "outputs": [
    {
     "name": "stdout",
     "output_type": "stream",
     "text": [
      "Slicing without start index : Norw\n"
     ]
    }
   ],
   "source": [
    "print('Slicing without start index :', parrot[:4])"
   ]
  },
  {
   "cell_type": "markdown",
   "metadata": {},
   "source": [
    "What happens when we use colon but do not provide the start and end index?"
   ]
  },
  {
   "cell_type": "code",
   "execution_count": 34,
   "metadata": {},
   "outputs": [
    {
     "name": "stdout",
     "output_type": "stream",
     "text": [
      "Slicing without indexes : Norwegian Blue\n"
     ]
    }
   ],
   "source": [
    "# example of slicing without the start and end index\n",
    "print('Slicing without indexes :', parrot[:])"
   ]
  },
  {
   "cell_type": "markdown",
   "metadata": {},
   "source": [
    "So far, we have performed slicing using only the start and end index. Apart from these two, we can also make use of the step index. The step index steps over character in a string for the given value of step.The output will contain the character at the start index, the end index, and all the elements occuring at the number of step value. In the below example, we begin slicing from the character at the 0th index including all but not the 6th index with a step of 2. "
   ]
  },
  {
   "cell_type": "code",
   "execution_count": 41,
   "metadata": {},
   "outputs": [
    {
     "name": "stdout",
     "output_type": "stream",
     "text": [
      "Slicing using step 2: Nre\n"
     ]
    }
   ],
   "source": [
    "# slicing for a step of two\n",
    "print('Slicing using step 2:', parrot[0:6:2])"
   ]
  },
  {
   "cell_type": "markdown",
   "metadata": {},
   "source": [
    "In the below example, we begin slicing from the character at the 0th index including all but not the 6th index with a step of 1. "
   ]
  },
  {
   "cell_type": "code",
   "execution_count": 40,
   "metadata": {},
   "outputs": [
    {
     "name": "stdout",
     "output_type": "stream",
     "text": [
      "Slicing using step 1 : Norweg\n"
     ]
    }
   ],
   "source": [
    "# slicing for a step of 1 does not perform slicing\n",
    "print('Slicing using step 1 :', parrot[0:6:1])"
   ]
  },
  {
   "cell_type": "markdown",
   "metadata": {},
   "source": [
    "<h4>Slicing backwards</h4>\n",
    "<p>We can slice backwards using negative values for the step index. In order to slice backwards, we must make sure that the start index is greater than the end index.</p>"
   ]
  },
  {
   "cell_type": "code",
   "execution_count": 42,
   "metadata": {},
   "outputs": [],
   "source": [
    "# create a string variable with letters in english\n",
    "letters = 'abcdefghijklmnopqrstuvwxyz'"
   ]
  },
  {
   "cell_type": "code",
   "execution_count": 46,
   "metadata": {},
   "outputs": [
    {
     "name": "stdout",
     "output_type": "stream",
     "text": [
      "slicing backward using negative step index : zyxwvutsrqponmlkjihgfedcba\n"
     ]
    }
   ],
   "source": [
    "# index backward using neagtive step indexing\n",
    "print('slicing backward using negative step index :', letters[::-1])"
   ]
  },
  {
   "cell_type": "markdown",
   "metadata": {},
   "source": [
    "<p>The slice backward works by negatively stepping from the start index all the way to the negative index. The above code works similar to slicing by : letters[25:0:-1], where the slicing begins at the start index(25, including the 25th index i.e. the character 'z') and negatively steps by 1 value. Therefore, the next character is from the index 25-1 = 24 (the character at the 24th index is 'y').<p>"
   ]
  },
  {
   "cell_type": "code",
   "execution_count": 49,
   "metadata": {},
   "outputs": [
    {
     "name": "stdout",
     "output_type": "stream",
     "text": [
      "slicing backward using indexes : zyxwvutsrqponmlkjihgfedcba\n"
     ]
    }
   ],
   "source": [
    "# index using start index\n",
    "print('slicing backward using indexes :', letters[25::-1])"
   ]
  },
  {
   "cell_type": "markdown",
   "metadata": {},
   "source": [
    "<p> If we assing the value of 0 to end index, it will exclude the value at the 0th index, thereby, skipping the letter 'a'."
   ]
  },
  {
   "cell_type": "code",
   "execution_count": 48,
   "metadata": {},
   "outputs": [
    {
     "name": "stdout",
     "output_type": "stream",
     "text": [
      "slicing backward : zyxwvutsrqponmlkjihgfedcb\n"
     ]
    }
   ],
   "source": [
    "# index using start and end index\n",
    "print('slicing backward :', letters[25:0:-1])"
   ]
  },
  {
   "cell_type": "markdown",
   "metadata": {},
   "source": [
    "<p>We cannot slice backward if the end index is greater than the start index.</p>"
   ]
  },
  {
   "cell_type": "code",
   "execution_count": 50,
   "metadata": {},
   "outputs": [
    {
     "name": "stdout",
     "output_type": "stream",
     "text": [
      "slicing backward : \n"
     ]
    }
   ],
   "source": [
    "# index using start and end index\n",
    "print('slicing backward :', letters[0:25:-1])"
   ]
  },
  {
   "cell_type": "markdown",
   "metadata": {},
   "source": [
    "<h3>Exercise</h3>\n",
    "<p>From the letters string\n",
    "<ul>\n",
    "<li>print 'qpo'</li>\n",
    "<li>print 'edcba'</li>\n",
    "<li>print last 8 letters in reverse</li>\n",
    "</ul</p>"
   ]
  },
  {
   "cell_type": "code",
   "execution_count": 57,
   "metadata": {},
   "outputs": [
    {
     "name": "stdout",
     "output_type": "stream",
     "text": [
      "slice to print letters \"qpo\" : qpo\n"
     ]
    }
   ],
   "source": [
    "# print the letters 'qpo'\n",
    "print('slice to print letters \"qpo\" :', letters[25-9:25-12:-1])"
   ]
  },
  {
   "cell_type": "code",
   "execution_count": 61,
   "metadata": {},
   "outputs": [
    {
     "name": "stdout",
     "output_type": "stream",
     "text": [
      "slice to print letters \"edcba\" : edcba\n"
     ]
    }
   ],
   "source": [
    "# print the letters 'edcba'\n",
    "print('slice to print letters \"edcba\" :', letters[4::-1])"
   ]
  },
  {
   "cell_type": "code",
   "execution_count": 64,
   "metadata": {},
   "outputs": [
    {
     "name": "stdout",
     "output_type": "stream",
     "text": [
      "The last 8 characters in letters in reverse : zyxwvuts\n"
     ]
    }
   ],
   "source": [
    "# print the last 8 in reverse\n",
    "print('The last 8 characters in letters in reverse :', letters[25:25-8:-1])"
   ]
  },
  {
   "cell_type": "markdown",
   "metadata": {},
   "source": [
    "<h4>More Python String Idioms</h4>"
   ]
  },
  {
   "cell_type": "code",
   "execution_count": 66,
   "metadata": {},
   "outputs": [
    {
     "name": "stdout",
     "output_type": "stream",
     "text": [
      "The last four characters : wxyz\n"
     ]
    }
   ],
   "source": [
    "# print last 4 characters\n",
    "print('The last four characters :', letters[-4:])"
   ]
  },
  {
   "cell_type": "code",
   "execution_count": 67,
   "metadata": {},
   "outputs": [
    {
     "name": "stdout",
     "output_type": "stream",
     "text": [
      "The last character is : z\n"
     ]
    }
   ],
   "source": [
    "# get the last character\n",
    "print('The last character is :', letters[-1:])"
   ]
  },
  {
   "cell_type": "markdown",
   "metadata": {},
   "source": [
    "<h3>Sequences</h3>\n",
    "<p>Sequences is an ordered set of items. The character 'hello world' has 11 items and all items are characters. Since sequences are ordered we can use indexes to access individual items in the sequence. String type is an example of a sequence.\n",
    "\n",
    "Some string operation that we can perform are:\n",
    "<ul>\n",
    "<li>Concatenation (+)</li>\n",
    "<li>Multiplication (*)</li>\n",
    "</ul>\n",
    "Operator precedence applies to sequence operations as well.</p>"
   ]
  },
  {
   "cell_type": "code",
   "execution_count": 71,
   "metadata": {},
   "outputs": [],
   "source": [
    "# bind some string values to variables\n",
    "a =  'hello '\n",
    "b = 'world'"
   ]
  },
  {
   "cell_type": "code",
   "execution_count": 72,
   "metadata": {},
   "outputs": [
    {
     "name": "stdout",
     "output_type": "stream",
     "text": [
      "We can perform concatenation using the \"+\" operator.\n",
      "Concatenated strings : hello world\n"
     ]
    }
   ],
   "source": [
    "# example of string concat\n",
    "print('We can perform concatenation using the \"+\" operator.')\n",
    "print('Concatenated strings :', a+b)"
   ]
  },
  {
   "cell_type": "markdown",
   "metadata": {},
   "source": [
    "<p>The multiplication operation(*) when performed on a string, the string gets repeated the number times we multiply it with.</p>"
   ]
  },
  {
   "cell_type": "code",
   "execution_count": 74,
   "metadata": {},
   "outputs": [
    {
     "name": "stdout",
     "output_type": "stream",
     "text": [
      "We can apply the \"*\" operation on strings.\n",
      "A string multiplied 5 times looks like : hello hello hello hello hello \n"
     ]
    }
   ],
   "source": [
    "# example of string multiplication\n",
    "print('We can apply the \"*\" operation on strings.')\n",
    "print('A string multiplied 5 times looks like :', a*5)"
   ]
  },
  {
   "cell_type": "code",
   "execution_count": 75,
   "metadata": {},
   "outputs": [
    {
     "name": "stdout",
     "output_type": "stream",
     "text": [
      "Operator precedence in string operations : hello hello hello hello hello hello hello hello hello \n",
      "operator precedence in string : hello hello hello hello hello 4\n"
     ]
    }
   ],
   "source": [
    "# an example showcasing operator precedence in strings\n",
    "print('Operator precedence in string operations :', a * (5 + 4))\n",
    "print('operator precedence in string :', a * 5 + '4')"
   ]
  },
  {
   "cell_type": "markdown",
   "metadata": {},
   "source": [
    "<h4>f-strings</h4>\n",
    "<p>f-strings is helpful when a string or string typye variable needs to be used along with a variable of different type. From the below example, a numeric of type int and a variable declared earlier are used along with the string with help of f-string. f-string can be used by prefixing the character 'f' before using a single or double quote.</p>"
   ]
  },
  {
   "cell_type": "code",
   "execution_count": 76,
   "metadata": {},
   "outputs": [
    {
     "name": "stdout",
     "output_type": "stream",
     "text": [
      "There are 5 letters in the variable hello \n"
     ]
    }
   ],
   "source": [
    "# an example use-case of f-string\n",
    "print(f'There are {5} letters in the variable {a}')"
   ]
  },
  {
   "cell_type": "code",
   "execution_count": 81,
   "metadata": {},
   "outputs": [
    {
     "name": "stdout",
     "output_type": "stream",
     "text": [
      "The variabel \"a\" is : hello  and the variable \"b\" is : world\n",
      "concatenation using f-strings :\n",
      "a + b = hello world\n"
     ]
    }
   ],
   "source": [
    "# another example of concatenation\n",
    "print(f'The variabel \"a\" is : {a} and the variable \"b\" is : {b}')\n",
    "print('concatenation using f-strings :')\n",
    "print(f'a + b = {a+b}')"
   ]
  },
  {
   "cell_type": "code",
   "execution_count": null,
   "metadata": {},
   "outputs": [],
   "source": []
  }
 ],
 "metadata": {
  "kernelspec": {
   "display_name": "Python 3",
   "language": "python",
   "name": "python3"
  },
  "language_info": {
   "codemirror_mode": {
    "name": "ipython",
    "version": 3
   },
   "file_extension": ".py",
   "mimetype": "text/x-python",
   "name": "python",
   "nbconvert_exporter": "python",
   "pygments_lexer": "ipython3",
   "version": "3.12.0"
  }
 },
 "nbformat": 4,
 "nbformat_minor": 2
}
